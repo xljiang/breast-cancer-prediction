{
 "cells": [
  {
   "cell_type": "markdown",
   "metadata": {},
   "source": [
    "# MLDB: Insight Demo"
   ]
  },
  {
   "cell_type": "code",
   "execution_count": 222,
   "metadata": {},
   "outputs": [],
   "source": [
    "# Standard scientific Python imports\n",
    "import pandas as pd\n",
    "import numpy as np\n",
    "import matplotlib.pyplot as plt\n",
    "import seaborn as sns\n",
    "plt.style.use('fivethirtyeight')\n",
    "\n",
    "# hide warnings\n",
    "import warnings\n",
    "warnings.filterwarnings('ignore')\n",
    "\n",
    "# general python imports\n",
    "import time\n",
    "import urllib3\n",
    "import mysql.connector\n",
    "from bs4 import BeautifulSoup\n",
    "import requests\n",
    "import pickle\n",
    "\n",
    "\n",
    "# import datasets, preprocessing, evaluation\n",
    "from sklearn import datasets, metrics\n",
    "from sklearn.preprocessing import StandardScaler\n",
    "from sklearn.cross_validation import train_test_split\n",
    "from sklearn.metrics import accuracy_score\n",
    "from scipy.stats import variation\n",
    "from sklearn.metrics import accuracy_score\n",
    "from sklearn.cross_validation import cross_val_score\n",
    "from sklearn.model_selection import GridSearchCV\n",
    "from sklearn.learning_curve import validation_curve\n",
    "from sklearn.learning_curve import learning_curve\n",
    "\n",
    "# Supervised learning\n",
    "from sklearn.neural_network import MLPClassifier\n",
    "from sklearn.tree import DecisionTreeClassifier\n",
    "from sklearn.neighbors import KNeighborsClassifier\n",
    "from sklearn import svm\n",
    "\n",
    "# dimensionality reduction\n",
    "from sklearn.decomposition import PCA\n",
    "from sklearn.random_projection import SparseRandomProjection\n",
    "from sklearn.discriminant_analysis import LinearDiscriminantAnalysis as LDA\n",
    "\n",
    "# clustering\n",
    "from sklearn.cluster import KMeans\n",
    "\n",
    "# set plots inline for ipython\n",
    "%matplotlib inline"
   ]
  },
  {
   "cell_type": "code",
   "execution_count": 223,
   "metadata": {},
   "outputs": [],
   "source": [
    "# set up db connection\n",
    "db = mysql.connector.connect(\n",
    "         user='root',\n",
    "         password='root',\n",
    "         host='localhost',\n",
    "         database='mlmodel_db')\n",
    "\n",
    "cur = db.cursor()"
   ]
  },
  {
   "cell_type": "markdown",
   "metadata": {},
   "source": [
    "## 1. Extract and parse dataset info from UCI ML Repository and save it to the database"
   ]
  },
  {
   "cell_type": "code",
   "execution_count": 224,
   "metadata": {},
   "outputs": [],
   "source": [
    "# set up extraction variables\n",
    "dailyMax = 200\n",
    "batchNum = 20\n",
    "sleeptime = 2\n",
    "\n",
    "# Get dataset name and link\n",
    "cur.execute('SELECT dataset_name, link FROM dataset ORDER BY dataset_name ASC')\n",
    "rows = cur.fetchall()"
   ]
  },
  {
   "cell_type": "code",
   "execution_count": 226,
   "metadata": {
    "collapsed": true
   },
   "outputs": [],
   "source": [
    "def extract_info(row):\n",
    "    \"\"\"\n",
    "    Extract dataset info for each row from UCI repository\n",
    "    \n",
    "    :type row: tuple\n",
    "    :rtype: pandas DataFrame\n",
    "    \"\"\"\n",
    "    \n",
    "    # Get dataset name and link\n",
    "    dataset_name = row[0].encode('ascii','ignore') # unicode to ascii\n",
    "    url = row[1].encode('ascii','ignore') # unicode to ascii\n",
    "    \n",
    "    # Extract web data\n",
    "    time.sleep(sleeptime) # sleep 5 sec between each extraction\n",
    "    page = requests.get(url)\n",
    "    soup = BeautifulSoup(page.content, 'html.parser')\n",
    "    \n",
    "    # Parse data to fetch Abstract, Number of Attributes, Number of Instance, Data Type\n",
    "    normal = soup.find_all(class_='normal')\n",
    "    abstract = normal[2].get_text()\n",
    "    data_type = normal[4].get_text()\n",
    "    instance_number = normal[6].get_text()\n",
    "    attribute_number = normal[12].get_text()\n",
    "    \n",
    "    info = pd.DataFrame({\n",
    "        \"dataset_name\": [dataset_name],\n",
    "        \"abstract\": [abstract], \n",
    "        \"data_type\": [data_type], \n",
    "        \"instance_number\": [instance_number], \n",
    "        \"attribute_number\": [attribute_number]\n",
    "    })\n",
    "    \n",
    "    return info"
   ]
  },
  {
   "cell_type": "code",
   "execution_count": 227,
   "metadata": {},
   "outputs": [
    {
     "name": "stdout",
     "output_type": "stream",
     "text": [
      "Updating: Breast Cancer ...\n",
      "Updating: Pima Indians Diabetes ...\n",
      "Updating: StarCraft2 Replay ...\n",
      "Extraction and updating completed.\n"
     ]
    }
   ],
   "source": [
    "# Extract all dataset info and save them to mlmodel_db\n",
    "for i in range(len(rows)):\n",
    "    dataset_name = rows[i][0].encode('ascii','ignore') # unicode to ascii\n",
    "    print 'Updating: ' + dataset_name + ' ...'\n",
    "\n",
    "    info = extract_info(rows[i])\n",
    "    abstract = info['abstract'].iloc[0]\n",
    "    attribute_number = info['attribute_number'].iloc[0]\n",
    "    instance_number = info['instance_number'].iloc[0]\n",
    "    data_type = info['data_type'].iloc[0]\n",
    "    \n",
    "    # load data into the Dataset table in MySQL mlmodel_db\n",
    "    #update_dataset_sql = 'UPDATE Dataset SET abstract = \"' + abstract + '\"'\n",
    "    \n",
    "    update_dataset_sql = 'UPDATE Dataset SET abstract = \"' + abstract + '\",'\\\n",
    "                         'attribute_number = ' + attribute_number + ','\\\n",
    "                         'instance_number = ' + instance_number + ','\\\n",
    "                         'data_type = \"' + data_type + '\" ' +\\\n",
    "                         'WHERE dataset_name = \"' + dataset_name + '\"'\n",
    "    \n",
    "    try:\n",
    "        cur.execute(update_dataset_sql)\n",
    "        db.commit()\n",
    "    except:\n",
    "        db.rollback()\n",
    "\n",
    "print \"Extraction and updating completed.\""
   ]
  },
  {
   "cell_type": "markdown",
   "metadata": {},
   "source": [
    "## 2. Build Machine Learning Models For Breast Cancer Dataset"
   ]
  },
  {
   "cell_type": "markdown",
   "metadata": {},
   "source": [
    "### 2.1 Data Exploration and Preprocessing"
   ]
  },
  {
   "cell_type": "code",
   "execution_count": 228,
   "metadata": {
    "collapsed": true
   },
   "outputs": [],
   "source": [
    "# load data\n",
    "cancer=pd.read_csv('breast-cancer-w-diag.csv', header=0)\n",
    "cancer.drop('id',axis=1,inplace=True)\n",
    "cancer.drop('Unnamed: 32',axis=1,inplace=True)\n",
    "cancer['diagnosis'] = cancer['diagnosis'].map({'M':1,'B':0})"
   ]
  },
  {
   "cell_type": "code",
   "execution_count": 229,
   "metadata": {},
   "outputs": [
    {
     "data": {
      "image/png": "[encoded data removed]",
      "text/plain": [
       "<matplotlib.figure.Figure at 0x1220e56d0>"
      ]
     },
     "metadata": {},
     "output_type": "display_data"
    }
   ],
   "source": [
    "#cancer.isnull().sum() # check missing value\n",
    "sns.countplot(x='diagnosis',data=cancer)\n",
    "plt.show()"
   ]
  },
  {
   "cell_type": "code",
   "execution_count": 230,
   "metadata": {},
   "outputs": [
    {
     "data": {
      "image/png": "[encoded data removed]",
      "text/plain": [
       "<matplotlib.figure.Figure at 0x121e7ae50>"
      ]
     },
     "metadata": {},
     "output_type": "display_data"
    }
   ],
   "source": [
    "# visualize nucleus features vs diagnosis\n",
    "\n",
    "features_mean=list(cancer.columns[1:11])\n",
    "# split dataframe into two based on diagnosis\n",
    "dfM=cancer[cancer['diagnosis'] ==1]\n",
    "dfB=cancer[cancer['diagnosis'] ==0]\n",
    "\n",
    "#Stack the data\n",
    "plt.rcParams.update({'font.size': 8})\n",
    "fig, axes = plt.subplots(nrows=5, ncols=2, figsize=(8,10))\n",
    "axes = axes.ravel()\n",
    "for idx,ax in enumerate(axes):\n",
    "    ax.figure\n",
    "    binwidth= (max(cancer[features_mean[idx]]) - min(cancer[features_mean[idx]]))/50\n",
    "    ax.hist([dfM[features_mean[idx]],dfB[features_mean[idx]]], bins=np.arange(min(cancer[features_mean[idx]]), max(cancer[features_mean[idx]]) + binwidth, binwidth) , alpha=0.5,stacked=True, normed = True, label=['M','B'],color=['r','g'])\n",
    "    ax.legend(loc='upper right')\n",
    "    ax.set_title(features_mean[idx])\n",
    "plt.tight_layout()\n",
    "plt.show()"
   ]
  },
  {
   "cell_type": "code",
   "execution_count": 231,
   "metadata": {
    "collapsed": true
   },
   "outputs": [],
   "source": [
    "# Split training and testing set\n",
    "train,test=train_test_split(cancer,test_size=0.2,random_state=0,stratify=cancer['diagnosis'])# stratify the outcome\n",
    "train_X=train[train.columns[1:31]]\n",
    "test_X=test[test.columns[1:31]]\n",
    "train_Y=train['diagnosis']\n",
    "test_Y=test['diagnosis']"
   ]
  },
  {
   "cell_type": "code",
   "execution_count": 232,
   "metadata": {
    "collapsed": true
   },
   "outputs": [],
   "source": [
    "# Scale data\n",
    "\n",
    "# fit a standardScaler to normalize all input to zero mean and unit variance\n",
    "scaler = StandardScaler().fit(train_X)\n",
    "train_X = pd.DataFrame(scaler.transform(train_X), columns = train_X.columns)\n",
    "test_X = pd.DataFrame(scaler.transform(test_X), columns = test_X.columns)"
   ]
  },
  {
   "cell_type": "code",
   "execution_count": 233,
   "metadata": {},
   "outputs": [
    {
     "data": {
      "text/html": [
       "<div>\n",
       "<style>\n",
       "    .dataframe thead tr:only-child th {\n",
       "        text-align: right;\n",
       "    }\n",
       "\n",
       "    .dataframe thead th {\n",
       "        text-align: left;\n",
       "    }\n",
       "\n",
       "    .dataframe tbody tr th {\n",
       "        vertical-align: top;\n",
       "    }\n",
       "</style>\n",
       "<table border=\"1\" class=\"dataframe\">\n",
       "  <thead>\n",
       "    <tr style=\"text-align: right;\">\n",
       "      <th></th>\n",
       "      <th>radius_mean</th>\n",
       "      <th>texture_mean</th>\n",
       "      <th>perimeter_mean</th>\n",
       "      <th>area_mean</th>\n",
       "      <th>smoothness_mean</th>\n",
       "      <th>compactness_mean</th>\n",
       "      <th>concavity_mean</th>\n",
       "      <th>concave points_mean</th>\n",
       "      <th>symmetry_mean</th>\n",
       "      <th>fractal_dimension_mean</th>\n",
       "      <th>...</th>\n",
       "      <th>radius_worst</th>\n",
       "      <th>texture_worst</th>\n",
       "      <th>perimeter_worst</th>\n",
       "      <th>area_worst</th>\n",
       "      <th>smoothness_worst</th>\n",
       "      <th>compactness_worst</th>\n",
       "      <th>concavity_worst</th>\n",
       "      <th>concave points_worst</th>\n",
       "      <th>symmetry_worst</th>\n",
       "      <th>fractal_dimension_worst</th>\n",
       "    </tr>\n",
       "  </thead>\n",
       "  <tbody>\n",
       "    <tr>\n",
       "      <th>0</th>\n",
       "      <td>-0.862083</td>\n",
       "      <td>-1.009094</td>\n",
       "      <td>-0.861347</td>\n",
       "      <td>-0.786765</td>\n",
       "      <td>-1.158494</td>\n",
       "      <td>-0.615198</td>\n",
       "      <td>-0.654171</td>\n",
       "      <td>-0.707010</td>\n",
       "      <td>0.692286</td>\n",
       "      <td>-0.047962</td>\n",
       "      <td>...</td>\n",
       "      <td>-0.857701</td>\n",
       "      <td>-0.802311</td>\n",
       "      <td>-0.809130</td>\n",
       "      <td>-0.753108</td>\n",
       "      <td>-0.996486</td>\n",
       "      <td>-0.346704</td>\n",
       "      <td>-0.553743</td>\n",
       "      <td>-0.697964</td>\n",
       "      <td>0.481210</td>\n",
       "      <td>-0.604967</td>\n",
       "    </tr>\n",
       "    <tr>\n",
       "      <th>1</th>\n",
       "      <td>-0.944093</td>\n",
       "      <td>-0.999941</td>\n",
       "      <td>-0.959931</td>\n",
       "      <td>-0.835771</td>\n",
       "      <td>-1.296173</td>\n",
       "      <td>-0.978211</td>\n",
       "      <td>-0.811038</td>\n",
       "      <td>-1.031182</td>\n",
       "      <td>-1.503224</td>\n",
       "      <td>-0.836375</td>\n",
       "      <td>...</td>\n",
       "      <td>-0.886863</td>\n",
       "      <td>-0.820201</td>\n",
       "      <td>-0.866969</td>\n",
       "      <td>-0.763508</td>\n",
       "      <td>-1.079789</td>\n",
       "      <td>-0.830368</td>\n",
       "      <td>-0.824462</td>\n",
       "      <td>-1.197365</td>\n",
       "      <td>-0.972434</td>\n",
       "      <td>-0.886765</td>\n",
       "    </tr>\n",
       "  </tbody>\n",
       "</table>\n",
       "<p>2 rows × 30 columns</p>\n",
       "</div>"
      ],
      "text/plain": [
       "   radius_mean  texture_mean  perimeter_mean  area_mean  smoothness_mean  \\\n",
       "0    -0.862083     -1.009094       -0.861347  -0.786765        -1.158494   \n",
       "1    -0.944093     -0.999941       -0.959931  -0.835771        -1.296173   \n",
       "\n",
       "   compactness_mean  concavity_mean  concave points_mean  symmetry_mean  \\\n",
       "0         -0.615198       -0.654171            -0.707010       0.692286   \n",
       "1         -0.978211       -0.811038            -1.031182      -1.503224   \n",
       "\n",
       "   fractal_dimension_mean           ...             radius_worst  \\\n",
       "0               -0.047962           ...                -0.857701   \n",
       "1               -0.836375           ...                -0.886863   \n",
       "\n",
       "   texture_worst  perimeter_worst  area_worst  smoothness_worst  \\\n",
       "0      -0.802311        -0.809130   -0.753108         -0.996486   \n",
       "1      -0.820201        -0.866969   -0.763508         -1.079789   \n",
       "\n",
       "   compactness_worst  concavity_worst  concave points_worst  symmetry_worst  \\\n",
       "0          -0.346704        -0.553743             -0.697964        0.481210   \n",
       "1          -0.830368        -0.824462             -1.197365       -0.972434   \n",
       "\n",
       "   fractal_dimension_worst  \n",
       "0                -0.604967  \n",
       "1                -0.886765  \n",
       "\n",
       "[2 rows x 30 columns]"
      ]
     },
     "execution_count": 233,
     "metadata": {},
     "output_type": "execute_result"
    }
   ],
   "source": [
    "train_X.head(2)"
   ]
  },
  {
   "cell_type": "code",
   "execution_count": 234,
   "metadata": {},
   "outputs": [
    {
     "name": "stdout",
     "output_type": "stream",
     "text": [
      "(455, 30)\n",
      "(114, 30)\n"
     ]
    }
   ],
   "source": [
    "print train_X.shape\n",
    "print test_X.shape"
   ]
  },
  {
   "cell_type": "markdown",
   "metadata": {},
   "source": [
    "### 2.2 A simple decision tree demo"
   ]
  },
  {
   "cell_type": "markdown",
   "metadata": {},
   "source": [
    "### Grid Search with CV to find DT parameters"
   ]
  },
  {
   "cell_type": "code",
   "execution_count": 235,
   "metadata": {},
   "outputs": [
    {
     "data": {
      "text/plain": [
       "GridSearchCV(cv=3, error_score='raise',\n",
       "       estimator=DecisionTreeClassifier(class_weight=None, criterion='gini', max_depth=None,\n",
       "            max_features=None, max_leaf_nodes=None,\n",
       "            min_impurity_split=1e-07, min_samples_leaf=1,\n",
       "            min_samples_split=2, min_weight_fraction_leaf=0.0,\n",
       "            presort=False, random_state=42, splitter='best'),\n",
       "       fit_params={}, iid=True, n_jobs=1,\n",
       "       param_grid={'min_samples_split': [2, 3, 4, 5, 6, 10, 20], 'criterion': ['gini', 'entropy'], 'max_depth': [2, 3, 4, 5, 6, 7, 10, 15, 20]},\n",
       "       pre_dispatch='2*n_jobs', refit=True, return_train_score=True,\n",
       "       scoring=None, verbose=0)"
      ]
     },
     "execution_count": 235,
     "metadata": {},
     "output_type": "execute_result"
    }
   ],
   "source": [
    "# determine optimal pruning for the decision trees using cross-validation grid-search\n",
    "\n",
    "# set of parameters to test\n",
    "param_grid = {\"criterion\": [\"gini\", \"entropy\"],\n",
    "              \"min_samples_split\": [2, 3, 4, 5, 6, 10, 20],\n",
    "              \"max_depth\": [2, 3, 4, 5, 6, 7, 10, 15, 20],\n",
    "              }\n",
    "\n",
    "tree_gs = GridSearchCV(DecisionTreeClassifier(random_state=42),\n",
    "                       param_grid=param_grid, cv=3)\n",
    "\n",
    "tree_gs.fit(train_X, train_Y)"
   ]
  },
  {
   "cell_type": "code",
   "execution_count": 236,
   "metadata": {},
   "outputs": [
    {
     "data": {
      "text/plain": [
       "{'criterion': 'entropy', 'max_depth': 4, 'min_samples_split': 2}"
      ]
     },
     "execution_count": 236,
     "metadata": {},
     "output_type": "execute_result"
    }
   ],
   "source": [
    "tree_gs.best_params_"
   ]
  },
  {
   "cell_type": "code",
   "execution_count": 237,
   "metadata": {},
   "outputs": [
    {
     "name": "stdout",
     "output_type": "stream",
     "text": [
      "train acc:  0.982417582418\n",
      "test acc:  0.964912280702\n",
      "train time:  0.0213301181793\n"
     ]
    }
   ],
   "source": [
    "# Get best estimator\n",
    "tree_final_model = tree_gs.best_estimator_\n",
    "start = time.time()\n",
    "clf = tree_final_model.fit(train_X, train_Y)\n",
    "stop = time.time()\n",
    "train_time = stop - start\n",
    "\n",
    "# train\n",
    "train_Y_predict = clf.predict(train_X)\n",
    "train_acc = accuracy_score(train_Y, train_Y_predict)\n",
    "\n",
    "# test\n",
    "test_Y_predict = clf.predict(test_X)\n",
    "test_acc = accuracy_score(test_Y, test_Y_predict)\n",
    "\n",
    "# print result\n",
    "print 'train acc: ', train_acc\n",
    "print 'test acc: ', test_acc\n",
    "print 'train time: ', train_time\n",
    "\n",
    "# get correct precision\n",
    "test_acc_4 = \"{:10.4f}\".format(test_acc)\n",
    "#print test_acc_4"
   ]
  },
  {
   "cell_type": "markdown",
   "metadata": {},
   "source": [
    "### Save model to the database which can be revised later"
   ]
  },
  {
   "cell_type": "code",
   "execution_count": 246,
   "metadata": {},
   "outputs": [
    {
     "name": "stdout",
     "output_type": "stream",
     "text": [
      "Saved a new model.\n"
     ]
    }
   ],
   "source": [
    "# Save the model to disk using pickle\n",
    "# Dump the trained decision tree classifier with Pickle\n",
    "decision_tree_pkl_filename = 'decision_tree_model_20171107.pkl'\n",
    "# Open the file to save as pkl file\n",
    "decision_tree_model_pkl = open(decision_tree_pkl_filename, 'wb')\n",
    "pickle.dump(tree_final_model, decision_tree_model_pkl)\n",
    "# Close pickle\n",
    "decision_tree_model_pkl.close()\n",
    "\n",
    "# Save model_filename to the database\n",
    "insert_model_sql = 'INSERT INTO Model (model_name, dataset_name, model_filename, score) VALUES (\\\n",
    "                   \"decision-tree-1\", \"Breast Cancer\",\"' + decision_tree_pkl_filename + '\",' + test_acc_4 + ')'\n",
    "\n",
    "try:\n",
    "    cur.execute(insert_model_sql)\n",
    "    db.commit()\n",
    "except:\n",
    "    db.rollback()\n",
    "\n",
    "print \"Saved a new model.\""
   ]
  },
  {
   "cell_type": "markdown",
   "metadata": {},
   "source": [
    "### Get saved model from database"
   ]
  },
  {
   "cell_type": "code",
   "execution_count": 247,
   "metadata": {},
   "outputs": [
    {
     "name": "stdout",
     "output_type": "stream",
     "text": [
      "decision_tree_model_20171107.pkl\n",
      "DecisionTreeClassifier(class_weight=None, criterion='entropy', max_depth=4,\n",
      "            max_features=None, max_leaf_nodes=None,\n",
      "            min_impurity_split=1e-07, min_samples_leaf=1,\n",
      "            min_samples_split=2, min_weight_fraction_leaf=0.0,\n",
      "            presort=False, random_state=42, splitter='best')\n"
     ]
    }
   ],
   "source": [
    "# Get saved model_filename from database\n",
    "#select_model_sql = 'SELECT model_filename FROM Model WHERE model_name = \"decision-tree-1\"'\n",
    "select_model_sql = 'SELECT model_filename FROM Model WHERE score > 0.95'\n",
    "\n",
    "cur.execute(select_model_sql)\n",
    "rows = cur.fetchall()\n",
    "    \n",
    "filename = rows[0][0]\n",
    "print filename\n",
    "# Loading the saved decision tree model from disk\n",
    "model_pkl = open(filename, 'rb')\n",
    "model = pickle.load(model_pkl)\n",
    "print model"
   ]
  },
  {
   "cell_type": "markdown",
   "metadata": {},
   "source": [
    "### Use saved model to do more analysis"
   ]
  },
  {
   "cell_type": "code",
   "execution_count": 152,
   "metadata": {},
   "outputs": [
    {
     "name": "stdout",
     "output_type": "stream",
     "text": [
      "tree size:  21\n",
      "test acc:  0.964912280702\n"
     ]
    }
   ],
   "source": [
    "# Tree structure and Testing\n",
    "treeObj = decision_tree_model.tree_\n",
    "test_Y_predict = decision_tree_model.predict(test_X)\n",
    "test_acc = accuracy_score(test_Y, test_Y_predict)\n",
    "\n",
    "# print result\n",
    "print 'tree size: ', treeObj.node_count\n",
    "print 'test acc: ', test_acc"
   ]
  },
  {
   "cell_type": "code",
   "execution_count": 153,
   "metadata": {
    "collapsed": true
   },
   "outputs": [],
   "source": [
    "# learning curve\n",
    "training_size, train_lc, val_lc = learning_curve(decision_tree_model,\n",
    "                                         train_X, train_Y, cv=10,\n",
    "                                         #train_sizes=np.arange(1, 409), n_jobs=1)\n",
    "                                         train_sizes=np.linspace(0.001, 1, 50), n_jobs=1)"
   ]
  },
  {
   "cell_type": "code",
   "execution_count": 154,
   "metadata": {},
   "outputs": [
    {
     "data": {
      "image/png": "[encoded data removed]",
      "text/plain": [
       "<matplotlib.figure.Figure at 0x121bf9410>"
      ]
     },
     "metadata": {},
     "output_type": "display_data"
    }
   ],
   "source": [
    "plt.plot(training_size, np.mean(train_lc, 1), color='blue', label='training')\n",
    "plt.plot(training_size, np.mean(val_lc, 1), color='red', label='cross validation')\n",
    "plt.hlines(np.mean([train_lc[-1], val_lc[-1]]), training_size[0], training_size[-1],\n",
    "                 color='gray', linestyle='dashed')\n",
    "\n",
    "plt.legend(loc='lower right')\n",
    "plt.ylim(0.6, 1.05)\n",
    "plt.xlim(training_size[0], training_size[-1])\n",
    "plt.title(\"Decision Tree Learning curve\")\n",
    "plt.xlabel('training size')\n",
    "plt.ylabel('Accuracy');\n",
    "plt.show()"
   ]
  },
  {
   "cell_type": "markdown",
   "metadata": {},
   "source": [
    "## 3. More Machine Learning Models"
   ]
  },
  {
   "cell_type": "markdown",
   "metadata": {},
   "source": [
    "### 3.1 SVM hyperparameter tuning and overfitting"
   ]
  },
  {
   "cell_type": "markdown",
   "metadata": {},
   "source": [
    "### svm - poly kernel, degree vs C"
   ]
  },
  {
   "cell_type": "code",
   "execution_count": 164,
   "metadata": {},
   "outputs": [],
   "source": [
    "degree = range(1,11)\n",
    "#degree = [1,2,3,4,5,7,10]\n",
    "train_scores_svm1, val_scores_svm1 = validation_curve(svm.SVC(kernel='poly', C=0.01), train_X, train_Y,\n",
    "                                          'degree', degree, cv=10)\n",
    "train_scores_svm2, val_scores_svm2 = validation_curve(svm.SVC(kernel='poly', C=0.1), train_X, train_Y,\n",
    "                                          'degree', degree, cv=10)\n",
    "train_scores_svm3, val_scores_svm3 = validation_curve(svm.SVC(kernel='poly', C=1), train_X, train_Y,\n",
    "                                          'degree', degree, cv=10)\n",
    "train_scores_svm4, val_scores_svm4 = validation_curve(svm.SVC(kernel='poly', C=10), train_X, train_Y,\n",
    "                                          'degree', degree, cv=10)"
   ]
  },
  {
   "cell_type": "code",
   "execution_count": 165,
   "metadata": {},
   "outputs": [
    {
     "data": {
      "image/png": "[encoded data removed]",
      "text/plain": [
       "<matplotlib.figure.Figure at 0x11d47c290>"
      ]
     },
     "metadata": {},
     "output_type": "display_data"
    }
   ],
   "source": [
    "plt.plot(degree, np.mean(val_scores_svm4, 1), color='red', label='C=10')\n",
    "plt.plot(degree, np.mean(val_scores_svm3, 1), color='purple', label='C=1.0')\n",
    "plt.plot(degree, np.mean(val_scores_svm2, 1), color='green', label='C=0.1')\n",
    "plt.plot(degree, np.mean(val_scores_svm1, 1), color='blue', label='C=0.01')\n",
    "\n",
    "plt.legend(loc='upper right')\n",
    "plt.ylim(0.6, 1.1)\n",
    "plt.title(\"SVM: polynomial kernel \\n varying poly degree and C\")\n",
    "plt.xlabel('polynomial degree')\n",
    "plt.ylabel('Cross-Validation Accuracy');\n",
    "plt.show()"
   ]
  },
  {
   "cell_type": "markdown",
   "metadata": {},
   "source": [
    "### Hyperparameter - C"
   ]
  },
  {
   "cell_type": "code",
   "execution_count": 162,
   "metadata": {
    "collapsed": true
   },
   "outputs": [],
   "source": [
    "degree = np.logspace(-1.5, 3, 10)\n",
    "train_scores, val_scores = validation_curve(svm.SVC(kernel='rbf'), train_X, train_Y,\n",
    "                                          'C', degree, cv=10)"
   ]
  },
  {
   "cell_type": "code",
   "execution_count": 163,
   "metadata": {},
   "outputs": [
    {
     "data": {
      "image/png": "[encoded data removed]",
      "text/plain": [
       "<matplotlib.figure.Figure at 0x11d5a7c10>"
      ]
     },
     "metadata": {},
     "output_type": "display_data"
    }
   ],
   "source": [
    "plt.plot(degree, np.median(train_scores, 1), 'o-',color='blue', label='training')\n",
    "plt.plot(degree, np.median(val_scores, 1), 'o-', color='red', label='cross validation')\n",
    "\n",
    "plt.legend(loc='upper right')\n",
    "plt.ylim(0.9, 1.1)\n",
    "plt.title(\"SVM: RBF kernel \\n gamma=1/30, varying C\")\n",
    "plt.xlabel('C')\n",
    "plt.ylabel('Accuracy');\n",
    "plt.xscale('log')\n",
    "plt.show()"
   ]
  },
  {
   "cell_type": "markdown",
   "metadata": {},
   "source": [
    "### Hyperparameter - gamma"
   ]
  },
  {
   "cell_type": "code",
   "execution_count": 166,
   "metadata": {
    "collapsed": true
   },
   "outputs": [],
   "source": [
    "#degree = [0.0001,0.0003,0.001,0.003,0.01,0.03,0.1,0.3]\n",
    "degree = np.logspace(-4, 1, 11)\n",
    "\n",
    "train_scores, val_scores = validation_curve(svm.SVC(kernel='rbf'), train_X, train_Y,\n",
    "                                          'gamma', degree, cv=10)"
   ]
  },
  {
   "cell_type": "code",
   "execution_count": 167,
   "metadata": {},
   "outputs": [
    {
     "data": {
      "image/png": "[encoded data removed]",
      "text/plain": [
       "<matplotlib.figure.Figure at 0x1233cd650>"
      ]
     },
     "metadata": {},
     "output_type": "display_data"
    }
   ],
   "source": [
    "plt.plot(degree, np.median(train_scores, 1), 'o-',color='blue', label='training')\n",
    "plt.plot(degree, np.median(val_scores, 1), 'o-', color='red', label='cross validation')\n",
    "\n",
    "plt.legend(loc='upper right')\n",
    "plt.ylim(0.6, 1.2)\n",
    "plt.title(\"SVM: RBF kernel \\n C=1.0, varying gamma\")\n",
    "plt.xlabel('gamma')\n",
    "plt.ylabel('Accuracy');\n",
    "plt.xscale('log')\n",
    "plt.show()"
   ]
  },
  {
   "cell_type": "markdown",
   "metadata": {},
   "source": [
    "### 3.2 Neural Networks and PCA"
   ]
  },
  {
   "cell_type": "markdown",
   "metadata": {},
   "source": [
    "### Find Optimal Parameters"
   ]
  },
  {
   "cell_type": "code",
   "execution_count": 168,
   "metadata": {
    "collapsed": true
   },
   "outputs": [],
   "source": [
    "# hidden layers\n",
    "# number of nodes in hidden layer\n",
    "# learning rate\n",
    "# momentum"
   ]
  },
  {
   "cell_type": "code",
   "execution_count": 169,
   "metadata": {},
   "outputs": [
    {
     "name": "stdout",
     "output_type": "stream",
     "text": [
      "train acc:  0.982417582418\n",
      "test acc:  0.964912280702\n",
      "train time:  0.00793218612671\n"
     ]
    }
   ],
   "source": [
    "# Best Parameters found by Grid Search of L and M\n",
    "mlp_temp_model = MLPClassifier(hidden_layer_sizes=(22,),solver='sgd',learning_rate_init=0.1, \n",
    "                               momentum=0.5, max_iter=10000)\n",
    "start = time.time()\n",
    "clf = clf.fit(train_X, train_Y)\n",
    "stop = time.time()\n",
    "train_time = stop - start\n",
    "\n",
    "# train\n",
    "train_Y_predict = clf.predict(train_X)\n",
    "train_acc = accuracy_score(train_Y, train_Y_predict)\n",
    "\n",
    "# test\n",
    "test_Y_predict = clf.predict(test_X)\n",
    "test_acc = accuracy_score(test_Y, test_Y_predict)\n",
    "\n",
    "# print result\n",
    "print 'train acc: ', train_acc\n",
    "print 'test acc: ', test_acc\n",
    "print 'train time: ', train_time"
   ]
  },
  {
   "cell_type": "markdown",
   "metadata": {},
   "source": [
    "### PCA"
   ]
  },
  {
   "cell_type": "code",
   "execution_count": 209,
   "metadata": {
    "collapsed": true
   },
   "outputs": [],
   "source": [
    "# fix name\n",
    "X = train_X\n",
    "y = np.array(train_Y)\n",
    "X_test = test_X\n",
    "y_test = np.array(test_Y)"
   ]
  },
  {
   "cell_type": "code",
   "execution_count": 210,
   "metadata": {},
   "outputs": [
    {
     "data": {
      "text/plain": [
       "PCA(copy=True, iterated_power='auto', n_components=None, random_state=None,\n",
       "  svd_solver='auto', tol=0.0, whiten=False)"
      ]
     },
     "execution_count": 210,
     "metadata": {},
     "output_type": "execute_result"
    }
   ],
   "source": [
    "# Choose PCA parameter: n_compoents\n",
    "pca = PCA()\n",
    "pca.fit(X)"
   ]
  },
  {
   "cell_type": "code",
   "execution_count": 211,
   "metadata": {
    "collapsed": true
   },
   "outputs": [],
   "source": [
    "# Get Cummulative exp var\n",
    "cummulative_explained_variance_ = np.cumsum(pca.explained_variance_ratio_)\n",
    "\n",
    "# Get kNN Accuracy\n",
    "acc = [] # accuracy\n",
    "rmse_pca = [] # reconstruction error\n",
    "for i in range (1, 31):\n",
    "    pca = PCA(n_components=i)\n",
    "    pca.fit(X)\n",
    "    X_pca = pca.transform(X)\n",
    "    X_projected = pca.inverse_transform(X_pca)\n",
    "    mse = ((X - X_projected)**2).mean()\n",
    "    rmse_pca.append(np.sqrt(mse))\n",
    "    clf = KNeighborsClassifier(n_neighbors=5)\n",
    "    clf.fit(X_pca, y)\n",
    "    acc.append(clf.score(X_pca, y))"
   ]
  },
  {
   "cell_type": "code",
   "execution_count": 212,
   "metadata": {},
   "outputs": [
    {
     "data": {
      "image/png": "[encoded data removed]",
      "text/plain": [
       "<matplotlib.figure.Figure at 0x12199aa50>"
      ]
     },
     "metadata": {},
     "output_type": "display_data"
    }
   ],
   "source": [
    "# Plot PCA Graph with Different n_omponents\n",
    "fig, ax1 = plt.subplots()\n",
    "x_range = range(1, 31)\n",
    "ax1.bar(x_range, pca.explained_variance_ratio_, label='explained variance')\n",
    "ax1.plot(x_range, cummulative_explained_variance_, color='green', label='cummulative exp var')\n",
    "ax1.set_xlabel('n_components')\n",
    "# Make the y-axis label, ticks and tick labels match the line color.\n",
    "ax1.set_ylabel('Variance')\n",
    "ax1.legend(loc=5)\n",
    "\n",
    "#ax1.tick_params('y', colors='b')\n",
    "\n",
    "ax2 = ax1.twinx()\n",
    "ax2.plot(x_range, acc, color='red', label='Accuracy')\n",
    "ax2.set_ylabel('Accuracy', color='r')\n",
    "ax2.tick_params('y', colors='r')\n",
    "ax2.legend(loc=4)\n",
    "\n",
    "plt.title('Find n_components')\n",
    "plt.show()"
   ]
  },
  {
   "cell_type": "code",
   "execution_count": 215,
   "metadata": {},
   "outputs": [
    {
     "data": {
      "text/plain": [
       "<matplotlib.text.Text at 0x1239d2750>"
      ]
     },
     "execution_count": 215,
     "metadata": {},
     "output_type": "execute_result"
    },
    {
     "data": {
      "image/png": "[encoded data removed]",
      "text/plain": [
       "<matplotlib.figure.Figure at 0x1217c93d0>"
      ]
     },
     "metadata": {},
     "output_type": "display_data"
    }
   ],
   "source": [
    "# Explore PCA's 1st and 2nd Components\n",
    "# PCA Plot\n",
    "X_pca = PCA(n_components=5).fit_transform(X)\n",
    "\n",
    "k = 2 # number of clusters\n",
    "colors = ['g', 'r', 'b', 'y', 'c', 'm']\n",
    "labels = ['Benign', 'Malignant']\n",
    "\n",
    "fig, ax = plt.subplots()\n",
    "for i in range(k):\n",
    "    points = np.array([X_pca[j] for j in range(len(X_pca)) if y[j] == i])\n",
    "    ax.scatter(points[:, 0], points[:, 1], s=7, c=colors[i], label=labels[i])\n",
    "\n",
    "plt.xlabel(\"1st component\")\n",
    "plt.ylabel(\"2nd component\")\n",
    "plt.legend(loc=2)\n",
    "plt.title('PCA')"
   ]
  },
  {
   "cell_type": "markdown",
   "metadata": {},
   "source": [
    "### Neural Networks with PCA"
   ]
  },
  {
   "cell_type": "code",
   "execution_count": 217,
   "metadata": {
    "collapsed": true
   },
   "outputs": [],
   "source": [
    "# mlp learner helper function\n",
    "def mlp_learner(input_layer_size, X_train, X_test):\n",
    "    \"\"\"\n",
    "    The Neural Network (Multilayer Perceptron) helper function\n",
    "    \n",
    "    :type input_layer_size: int\n",
    "    :type X_train: pandas DataFrame\n",
    "    :type X_test: pandas DataFrame\n",
    "    :rtype: void\n",
    "    \"\"\"\n",
    "    \n",
    "    # set learning_rate and momentum\n",
    "    learning_rate = 0.1\n",
    "    momentum = 0.5\n",
    "    # hidden_layer_size = (input layer + output layer) / 2\n",
    "    size = (input_layer_size + 2) / 2 \n",
    "    \n",
    "    # mlp classifier\n",
    "    mlp = MLPClassifier(hidden_layer_sizes=(size,),\n",
    "                        solver='sgd',\n",
    "                        learning_rate_init=learning_rate, \n",
    "                        momentum=momentum,\n",
    "                        max_iter=10000)\n",
    "    start = time.time()\n",
    "    clf = mlp.fit(X_train, y)\n",
    "    train_time = time.time() - start\n",
    "\n",
    "    # train\n",
    "    y_predict = clf.predict(X_train)\n",
    "    train_acc = accuracy_score(y, y_predict)\n",
    "\n",
    "    # test\n",
    "    y_test_predict = clf.predict(X_test)\n",
    "    test_acc = accuracy_score(y_test, y_test_predict)\n",
    "    \n",
    "    # return\n",
    "    return train_acc, test_acc, train_time"
   ]
  },
  {
   "cell_type": "code",
   "execution_count": 218,
   "metadata": {},
   "outputs": [
    {
     "name": "stdout",
     "output_type": "stream",
     "text": [
      "train acc:  0.993406593407\n",
      "test acc:  0.956140350877\n",
      "train time:  0.260187864304\n"
     ]
    }
   ],
   "source": [
    "# Original MLP\n",
    "train_acc, test_acc, train_time = mlp_learner(30, X, X_test)\n",
    "print 'train acc: ', train_acc\n",
    "print 'test acc: ', test_acc\n",
    "print 'train time: ', train_time"
   ]
  },
  {
   "cell_type": "code",
   "execution_count": 221,
   "metadata": {},
   "outputs": [
    {
     "name": "stdout",
     "output_type": "stream",
     "text": [
      "train acc:  0.982417582418\n",
      "test acc:  0.938596491228\n",
      "train time:  0.0706400871277\n"
     ]
    }
   ],
   "source": [
    "# PCA - MLP\n",
    "pca = PCA(n_components=5)\n",
    "pca.fit(X)\n",
    "X_pca = pca.transform(X)\n",
    "X_test_pca = pca.transform(X_test)\n",
    "\n",
    "train_acc, test_acc, train_time = mlp_learner(5, X_pca, X_test_pca)\n",
    "print 'train acc: ', train_acc\n",
    "print 'test acc: ', test_acc\n",
    "print 'train time: ', train_time"
   ]
  },
  {
   "cell_type": "markdown",
   "metadata": {},
   "source": [
    "### Summary\n",
    "- Extract and parse information on the webpage with beautifulsoup\n",
    "- Generate different machine learning models: Decision Tree, AdaBoosting, kNN, SVM and neural networks.\n",
    "- Fine tune the hyperparameters. Achieved >98% precision.\n",
    "- Applied PCA (also ICA, LDA and Randomized Projection) to run the neural network and achieved a similar precision but saved ~70% of the running time.\n",
    "- Read and write data accessing MySQL database"
   ]
  },
  {
   "cell_type": "markdown",
   "metadata": {},
   "source": [
    "### What's Next?\n",
    "- Add a front end UI \n",
    "- Explore more datasets and build more models\n",
    "- Add CRUD functionality for users"
   ]
  }
 ],
 "metadata": {
  "kernelspec": {
   "display_name": "Python 2",
   "language": "python",
   "name": "python2"
  },
  "language_info": {
   "codemirror_mode": {
    "name": "ipython",
    "version": 2
   },
   "file_extension": ".py",
   "mimetype": "text/x-python",
   "name": "python",
   "nbconvert_exporter": "python",
   "pygments_lexer": "ipython2",
   "version": "2.7.13"
  }
 },
 "nbformat": 4,
 "nbformat_minor": 2
}
